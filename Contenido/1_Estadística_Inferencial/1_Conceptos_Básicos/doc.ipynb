{
  "cells": [
    {
      "cell_type": "raw",
      "metadata": {},
      "source": [
        "---\n",
        "title: \"Conceptos Básicos\"\n",
        "editor: visual\n",
        "author: \"Fabián Brenes Trejos\"\n",
        "toc:\n",
        "  true\n",
        "theme: \n",
        "  - litera\n",
        "  - ../../Plantillas/fmbt_doc.scss\n",
        "---"
      ],
      "id": "e3697228"
    },
    {
      "cell_type": "markdown",
      "metadata": {},
      "source": [
        "## Tipo de datos\n",
        "\n",
        "\n",
        "```{mermaid}\n",
        "\n",
        "flowchart TD\n",
        "    A[Tipos de Datos] \n",
        "\n",
        "    A --> B[Continuos]\n",
        "    A --> C[Discretos]\n",
        "    B --> D[\"`Ejemplos:\n",
        "    - Tasa de interés\n",
        "    - Producto Interno Bruto`\"]\n",
        "    C --> E[Nominal]\n",
        "    E --> G[\"`Ejemplos:\n",
        "    - Verdadero o Falso\n",
        "    - Activo o Inactivo`\"]\n",
        "    C --> F[Ordinal]\n",
        "    F --> H[\"`Ejemplos:\n",
        "    - 1 = Bajo, 2= Moderado, 3= Severo\n",
        "    -1 = Deficiente, 2 = Aceptable, 3 = Bueno`\"]\n",
        "\n",
        "```\n",
        "\n",
        "\n",
        "## Medidas de Tendencia Central\n",
        "\n",
        "### Media\n",
        "\n",
        "\n",
        "```{latex}\n",
        "\n",
        "\\bar{x} = \\frac{1}{n} (x_1 + x_2 + \\dots + x_n)\n",
        "\n",
        "```"
      ],
      "id": "52d62b1c"
    }
  ],
  "metadata": {
    "kernelspec": {
      "display_name": "Python 3",
      "language": "python",
      "name": "python3"
    }
  },
  "nbformat": 4,
  "nbformat_minor": 5
}